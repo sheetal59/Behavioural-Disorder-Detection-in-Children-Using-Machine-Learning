{
  "nbformat": 4,
  "nbformat_minor": 0,
  "metadata": {
    "colab": {
      "provenance": []
    },
    "kernelspec": {
      "name": "python3",
      "display_name": "Python 3"
    },
    "language_info": {
      "name": "python"
    }
  },
  "cells": [
    {
      "cell_type": "code",
      "execution_count": null,
      "metadata": {
        "id": "X5MJzWIOvs4u"
      },
      "outputs": [],
      "source": [
        "import numpy as np\n",
        "import pandas as pd\n",
        "pd.set_option('max_columns', None)\n",
        "pd.set_option('max_rows', 90)\n",
        "\n",
        "import matplotlib.pyplot as plt\n",
        "import seaborn as sns\n",
        "sns.set_style('darkgrid')\n",
        "\n",
        "from sklearn.neighbors import KNeighborsRegressor\n",
        "import scipy.stats\n",
        "from sklearn.compose import ColumnTransformer\n",
        "from sklearn.preprocessing import MinMaxScaler\n",
        "from sklearn.preprocessing import StandardScaler\n",
        "from sklearn.model_selection import train_test_split\n",
        "from sklearn.linear_model import LogisticRegression\n",
        "from sklearn.neighbors import KNeighborsClassifier\n",
        "from sklearn.svm import SVC\n",
        "from sklearn.metrics import confusion_matrix, accuracy_score, classification_report, roc_curve, roc_auc_score, precision_score, recall_score\n",
        "from sklearn.model_selection import KFold, cross_val_score\n",
        "from sklearn.pipeline import Pipeline, make_pipeline\n",
        "from sklearn.feature_selection import SelectKBest, chi2\n",
        "from sklearn.tree import DecisionTreeClassifier\n",
        "from sklearn.ensemble import RandomForestClassifier, GradientBoostingClassifier\n",
        "from sklearn.naive_bayes import GaussianNB"
      ]
    },
    {
      "cell_type": "markdown",
      "source": [
        "Loading and reading the dataset"
      ],
      "metadata": {
        "id": "PeGS30D1z-yv"
      }
    },
    {
      "cell_type": "code",
      "source": [
        "df = pd.read_csv(\"/content/dataset_behaviour_disorders - Categorical.csv\")"
      ],
      "metadata": {
        "id": "iuw0vC04zK05"
      },
      "execution_count": null,
      "outputs": []
    },
    {
      "cell_type": "code",
      "source": [
        "df.head()"
      ],
      "metadata": {
        "colab": {
          "base_uri": "https://localhost:8080/",
          "height": 270
        },
        "id": "Nia8TLi0zYMm",
        "outputId": "ebb2fb09-b89b-4e32-9a83-fdba9442fd7b"
      },
      "execution_count": null,
      "outputs": [
        {
          "output_type": "execute_result",
          "data": {
            "text/plain": [
              "   ID genHistory hyperactivity forgetfulness disobeyInst noDangerSense  \\\n",
              "0   1  lessOften         never         never       never     sometimes   \n",
              "1   2      never     lessOften     lessOften   lessOften         never   \n",
              "2   3  moreOften     sometimes     sometimes       never         never   \n",
              "3   4  sometimes     sometimes     lessOften   sometimes     lessOften   \n",
              "4   5  sometimes     moreOften     moreOften   moreOften         never   \n",
              "\n",
              "  antisocial harmingNature   irrSleep  lowEsteem repTempTantrum noAttention  \\\n",
              "0  sometimes     sometimes  lessOften  sometimes      sometimes       never   \n",
              "1  lessOften     lessOften  sometimes  lessOften      sometimes       never   \n",
              "2  sometimes     sometimes  lessOften      never          never   moreOften   \n",
              "3  lessOften     lessOften      never  moreOften      moreOften   sometimes   \n",
              "4      never         never  lessOften      never      moreOften   moreOften   \n",
              "\n",
              "  repeatWords respNamesBy9months noPlaywithOtherby36Months noGestures12Months  \\\n",
              "0       never          sometimes                 lessOften              never   \n",
              "1   sometimes              never                 lessOften          sometimes   \n",
              "2   sometimes          moreOften                     never          lessOften   \n",
              "3   moreOften          moreOften                 lessOften          sometimes   \n",
              "4   lessOften              never                 moreOften              never   \n",
              "\n",
              "  unusualEating chanceOfDisorder  \n",
              "0     sometimes              low  \n",
              "1     moreOften              low  \n",
              "2     moreOften              low  \n",
              "3     sometimes             high  \n",
              "4     sometimes              low  "
            ],
            "text/html": [
              "\n",
              "  <div id=\"df-ae5945b9-0f76-4493-9510-28aa0591b899\">\n",
              "    <div class=\"colab-df-container\">\n",
              "      <div>\n",
              "<style scoped>\n",
              "    .dataframe tbody tr th:only-of-type {\n",
              "        vertical-align: middle;\n",
              "    }\n",
              "\n",
              "    .dataframe tbody tr th {\n",
              "        vertical-align: top;\n",
              "    }\n",
              "\n",
              "    .dataframe thead th {\n",
              "        text-align: right;\n",
              "    }\n",
              "</style>\n",
              "<table border=\"1\" class=\"dataframe\">\n",
              "  <thead>\n",
              "    <tr style=\"text-align: right;\">\n",
              "      <th></th>\n",
              "      <th>ID</th>\n",
              "      <th>genHistory</th>\n",
              "      <th>hyperactivity</th>\n",
              "      <th>forgetfulness</th>\n",
              "      <th>disobeyInst</th>\n",
              "      <th>noDangerSense</th>\n",
              "      <th>antisocial</th>\n",
              "      <th>harmingNature</th>\n",
              "      <th>irrSleep</th>\n",
              "      <th>lowEsteem</th>\n",
              "      <th>repTempTantrum</th>\n",
              "      <th>noAttention</th>\n",
              "      <th>repeatWords</th>\n",
              "      <th>respNamesBy9months</th>\n",
              "      <th>noPlaywithOtherby36Months</th>\n",
              "      <th>noGestures12Months</th>\n",
              "      <th>unusualEating</th>\n",
              "      <th>chanceOfDisorder</th>\n",
              "    </tr>\n",
              "  </thead>\n",
              "  <tbody>\n",
              "    <tr>\n",
              "      <th>0</th>\n",
              "      <td>1</td>\n",
              "      <td>lessOften</td>\n",
              "      <td>never</td>\n",
              "      <td>never</td>\n",
              "      <td>never</td>\n",
              "      <td>sometimes</td>\n",
              "      <td>sometimes</td>\n",
              "      <td>sometimes</td>\n",
              "      <td>lessOften</td>\n",
              "      <td>sometimes</td>\n",
              "      <td>sometimes</td>\n",
              "      <td>never</td>\n",
              "      <td>never</td>\n",
              "      <td>sometimes</td>\n",
              "      <td>lessOften</td>\n",
              "      <td>never</td>\n",
              "      <td>sometimes</td>\n",
              "      <td>low</td>\n",
              "    </tr>\n",
              "    <tr>\n",
              "      <th>1</th>\n",
              "      <td>2</td>\n",
              "      <td>never</td>\n",
              "      <td>lessOften</td>\n",
              "      <td>lessOften</td>\n",
              "      <td>lessOften</td>\n",
              "      <td>never</td>\n",
              "      <td>lessOften</td>\n",
              "      <td>lessOften</td>\n",
              "      <td>sometimes</td>\n",
              "      <td>lessOften</td>\n",
              "      <td>sometimes</td>\n",
              "      <td>never</td>\n",
              "      <td>sometimes</td>\n",
              "      <td>never</td>\n",
              "      <td>lessOften</td>\n",
              "      <td>sometimes</td>\n",
              "      <td>moreOften</td>\n",
              "      <td>low</td>\n",
              "    </tr>\n",
              "    <tr>\n",
              "      <th>2</th>\n",
              "      <td>3</td>\n",
              "      <td>moreOften</td>\n",
              "      <td>sometimes</td>\n",
              "      <td>sometimes</td>\n",
              "      <td>never</td>\n",
              "      <td>never</td>\n",
              "      <td>sometimes</td>\n",
              "      <td>sometimes</td>\n",
              "      <td>lessOften</td>\n",
              "      <td>never</td>\n",
              "      <td>never</td>\n",
              "      <td>moreOften</td>\n",
              "      <td>sometimes</td>\n",
              "      <td>moreOften</td>\n",
              "      <td>never</td>\n",
              "      <td>lessOften</td>\n",
              "      <td>moreOften</td>\n",
              "      <td>low</td>\n",
              "    </tr>\n",
              "    <tr>\n",
              "      <th>3</th>\n",
              "      <td>4</td>\n",
              "      <td>sometimes</td>\n",
              "      <td>sometimes</td>\n",
              "      <td>lessOften</td>\n",
              "      <td>sometimes</td>\n",
              "      <td>lessOften</td>\n",
              "      <td>lessOften</td>\n",
              "      <td>lessOften</td>\n",
              "      <td>never</td>\n",
              "      <td>moreOften</td>\n",
              "      <td>moreOften</td>\n",
              "      <td>sometimes</td>\n",
              "      <td>moreOften</td>\n",
              "      <td>moreOften</td>\n",
              "      <td>lessOften</td>\n",
              "      <td>sometimes</td>\n",
              "      <td>sometimes</td>\n",
              "      <td>high</td>\n",
              "    </tr>\n",
              "    <tr>\n",
              "      <th>4</th>\n",
              "      <td>5</td>\n",
              "      <td>sometimes</td>\n",
              "      <td>moreOften</td>\n",
              "      <td>moreOften</td>\n",
              "      <td>moreOften</td>\n",
              "      <td>never</td>\n",
              "      <td>never</td>\n",
              "      <td>never</td>\n",
              "      <td>lessOften</td>\n",
              "      <td>never</td>\n",
              "      <td>moreOften</td>\n",
              "      <td>moreOften</td>\n",
              "      <td>lessOften</td>\n",
              "      <td>never</td>\n",
              "      <td>moreOften</td>\n",
              "      <td>never</td>\n",
              "      <td>sometimes</td>\n",
              "      <td>low</td>\n",
              "    </tr>\n",
              "  </tbody>\n",
              "</table>\n",
              "</div>\n",
              "      <button class=\"colab-df-convert\" onclick=\"convertToInteractive('df-ae5945b9-0f76-4493-9510-28aa0591b899')\"\n",
              "              title=\"Convert this dataframe to an interactive table.\"\n",
              "              style=\"display:none;\">\n",
              "        \n",
              "  <svg xmlns=\"http://www.w3.org/2000/svg\" height=\"24px\"viewBox=\"0 0 24 24\"\n",
              "       width=\"24px\">\n",
              "    <path d=\"M0 0h24v24H0V0z\" fill=\"none\"/>\n",
              "    <path d=\"M18.56 5.44l.94 2.06.94-2.06 2.06-.94-2.06-.94-.94-2.06-.94 2.06-2.06.94zm-11 1L8.5 8.5l.94-2.06 2.06-.94-2.06-.94L8.5 2.5l-.94 2.06-2.06.94zm10 10l.94 2.06.94-2.06 2.06-.94-2.06-.94-.94-2.06-.94 2.06-2.06.94z\"/><path d=\"M17.41 7.96l-1.37-1.37c-.4-.4-.92-.59-1.43-.59-.52 0-1.04.2-1.43.59L10.3 9.45l-7.72 7.72c-.78.78-.78 2.05 0 2.83L4 21.41c.39.39.9.59 1.41.59.51 0 1.02-.2 1.41-.59l7.78-7.78 2.81-2.81c.8-.78.8-2.07 0-2.86zM5.41 20L4 18.59l7.72-7.72 1.47 1.35L5.41 20z\"/>\n",
              "  </svg>\n",
              "      </button>\n",
              "      \n",
              "  <style>\n",
              "    .colab-df-container {\n",
              "      display:flex;\n",
              "      flex-wrap:wrap;\n",
              "      gap: 12px;\n",
              "    }\n",
              "\n",
              "    .colab-df-convert {\n",
              "      background-color: #E8F0FE;\n",
              "      border: none;\n",
              "      border-radius: 50%;\n",
              "      cursor: pointer;\n",
              "      display: none;\n",
              "      fill: #1967D2;\n",
              "      height: 32px;\n",
              "      padding: 0 0 0 0;\n",
              "      width: 32px;\n",
              "    }\n",
              "\n",
              "    .colab-df-convert:hover {\n",
              "      background-color: #E2EBFA;\n",
              "      box-shadow: 0px 1px 2px rgba(60, 64, 67, 0.3), 0px 1px 3px 1px rgba(60, 64, 67, 0.15);\n",
              "      fill: #174EA6;\n",
              "    }\n",
              "\n",
              "    [theme=dark] .colab-df-convert {\n",
              "      background-color: #3B4455;\n",
              "      fill: #D2E3FC;\n",
              "    }\n",
              "\n",
              "    [theme=dark] .colab-df-convert:hover {\n",
              "      background-color: #434B5C;\n",
              "      box-shadow: 0px 1px 3px 1px rgba(0, 0, 0, 0.15);\n",
              "      filter: drop-shadow(0px 1px 2px rgba(0, 0, 0, 0.3));\n",
              "      fill: #FFFFFF;\n",
              "    }\n",
              "  </style>\n",
              "\n",
              "      <script>\n",
              "        const buttonEl =\n",
              "          document.querySelector('#df-ae5945b9-0f76-4493-9510-28aa0591b899 button.colab-df-convert');\n",
              "        buttonEl.style.display =\n",
              "          google.colab.kernel.accessAllowed ? 'block' : 'none';\n",
              "\n",
              "        async function convertToInteractive(key) {\n",
              "          const element = document.querySelector('#df-ae5945b9-0f76-4493-9510-28aa0591b899');\n",
              "          const dataTable =\n",
              "            await google.colab.kernel.invokeFunction('convertToInteractive',\n",
              "                                                     [key], {});\n",
              "          if (!dataTable) return;\n",
              "\n",
              "          const docLinkHtml = 'Like what you see? Visit the ' +\n",
              "            '<a target=\"_blank\" href=https://colab.research.google.com/notebooks/data_table.ipynb>data table notebook</a>'\n",
              "            + ' to learn more about interactive tables.';\n",
              "          element.innerHTML = '';\n",
              "          dataTable['output_type'] = 'display_data';\n",
              "          await google.colab.output.renderOutput(dataTable, element);\n",
              "          const docLink = document.createElement('div');\n",
              "          docLink.innerHTML = docLinkHtml;\n",
              "          element.appendChild(docLink);\n",
              "        }\n",
              "      </script>\n",
              "    </div>\n",
              "  </div>\n",
              "  "
            ]
          },
          "metadata": {},
          "execution_count": 41
        }
      ]
    },
    {
      "cell_type": "code",
      "source": [
        "df.tail()"
      ],
      "metadata": {
        "colab": {
          "base_uri": "https://localhost:8080/",
          "height": 270
        },
        "id": "koUWo3zszePF",
        "outputId": "52b70765-f8c2-4390-a0a3-cd55724ffd1f"
      },
      "execution_count": null,
      "outputs": [
        {
          "output_type": "execute_result",
          "data": {
            "text/plain": [
              "      ID genHistory hyperactivity forgetfulness disobeyInst noDangerSense  \\\n",
              "494  495  moreOften     moreOften     moreOften   sometimes         never   \n",
              "495  496  lessOften     moreOften     moreOften   sometimes     lessOften   \n",
              "496  497  lessOften     moreOften     lessOften   lessOften     moreOften   \n",
              "497  498  sometimes         never     moreOften   lessOften     moreOften   \n",
              "498  499  moreOften     lessOften     lessOften       never         never   \n",
              "\n",
              "    antisocial harmingNature   irrSleep  lowEsteem repTempTantrum noAttention  \\\n",
              "494      never         never  lessOften  sometimes      sometimes       never   \n",
              "495  sometimes     sometimes  moreOften      never      moreOften   sometimes   \n",
              "496  sometimes     sometimes  sometimes  moreOften      sometimes       never   \n",
              "497      never         never      never  sometimes          never   lessOften   \n",
              "498  lessOften     lessOften      never      never      lessOften   sometimes   \n",
              "\n",
              "    repeatWords respNamesBy9months noPlaywithOtherby36Months  \\\n",
              "494   moreOften          moreOften                     never   \n",
              "495       never          sometimes                 moreOften   \n",
              "496   lessOften          lessOften                 moreOften   \n",
              "497       never              never                 sometimes   \n",
              "498   moreOften          sometimes                 sometimes   \n",
              "\n",
              "    noGestures12Months unusualEating chanceOfDisorder  \n",
              "494          moreOften     sometimes             high  \n",
              "495              never     lessOften             high  \n",
              "496          sometimes         never              low  \n",
              "497          lessOften     sometimes              low  \n",
              "498          lessOften     lessOften              low  "
            ],
            "text/html": [
              "\n",
              "  <div id=\"df-03c1ad71-5a7e-4b1f-b122-ea4a38bebb5c\">\n",
              "    <div class=\"colab-df-container\">\n",
              "      <div>\n",
              "<style scoped>\n",
              "    .dataframe tbody tr th:only-of-type {\n",
              "        vertical-align: middle;\n",
              "    }\n",
              "\n",
              "    .dataframe tbody tr th {\n",
              "        vertical-align: top;\n",
              "    }\n",
              "\n",
              "    .dataframe thead th {\n",
              "        text-align: right;\n",
              "    }\n",
              "</style>\n",
              "<table border=\"1\" class=\"dataframe\">\n",
              "  <thead>\n",
              "    <tr style=\"text-align: right;\">\n",
              "      <th></th>\n",
              "      <th>ID</th>\n",
              "      <th>genHistory</th>\n",
              "      <th>hyperactivity</th>\n",
              "      <th>forgetfulness</th>\n",
              "      <th>disobeyInst</th>\n",
              "      <th>noDangerSense</th>\n",
              "      <th>antisocial</th>\n",
              "      <th>harmingNature</th>\n",
              "      <th>irrSleep</th>\n",
              "      <th>lowEsteem</th>\n",
              "      <th>repTempTantrum</th>\n",
              "      <th>noAttention</th>\n",
              "      <th>repeatWords</th>\n",
              "      <th>respNamesBy9months</th>\n",
              "      <th>noPlaywithOtherby36Months</th>\n",
              "      <th>noGestures12Months</th>\n",
              "      <th>unusualEating</th>\n",
              "      <th>chanceOfDisorder</th>\n",
              "    </tr>\n",
              "  </thead>\n",
              "  <tbody>\n",
              "    <tr>\n",
              "      <th>494</th>\n",
              "      <td>495</td>\n",
              "      <td>moreOften</td>\n",
              "      <td>moreOften</td>\n",
              "      <td>moreOften</td>\n",
              "      <td>sometimes</td>\n",
              "      <td>never</td>\n",
              "      <td>never</td>\n",
              "      <td>never</td>\n",
              "      <td>lessOften</td>\n",
              "      <td>sometimes</td>\n",
              "      <td>sometimes</td>\n",
              "      <td>never</td>\n",
              "      <td>moreOften</td>\n",
              "      <td>moreOften</td>\n",
              "      <td>never</td>\n",
              "      <td>moreOften</td>\n",
              "      <td>sometimes</td>\n",
              "      <td>high</td>\n",
              "    </tr>\n",
              "    <tr>\n",
              "      <th>495</th>\n",
              "      <td>496</td>\n",
              "      <td>lessOften</td>\n",
              "      <td>moreOften</td>\n",
              "      <td>moreOften</td>\n",
              "      <td>sometimes</td>\n",
              "      <td>lessOften</td>\n",
              "      <td>sometimes</td>\n",
              "      <td>sometimes</td>\n",
              "      <td>moreOften</td>\n",
              "      <td>never</td>\n",
              "      <td>moreOften</td>\n",
              "      <td>sometimes</td>\n",
              "      <td>never</td>\n",
              "      <td>sometimes</td>\n",
              "      <td>moreOften</td>\n",
              "      <td>never</td>\n",
              "      <td>lessOften</td>\n",
              "      <td>high</td>\n",
              "    </tr>\n",
              "    <tr>\n",
              "      <th>496</th>\n",
              "      <td>497</td>\n",
              "      <td>lessOften</td>\n",
              "      <td>moreOften</td>\n",
              "      <td>lessOften</td>\n",
              "      <td>lessOften</td>\n",
              "      <td>moreOften</td>\n",
              "      <td>sometimes</td>\n",
              "      <td>sometimes</td>\n",
              "      <td>sometimes</td>\n",
              "      <td>moreOften</td>\n",
              "      <td>sometimes</td>\n",
              "      <td>never</td>\n",
              "      <td>lessOften</td>\n",
              "      <td>lessOften</td>\n",
              "      <td>moreOften</td>\n",
              "      <td>sometimes</td>\n",
              "      <td>never</td>\n",
              "      <td>low</td>\n",
              "    </tr>\n",
              "    <tr>\n",
              "      <th>497</th>\n",
              "      <td>498</td>\n",
              "      <td>sometimes</td>\n",
              "      <td>never</td>\n",
              "      <td>moreOften</td>\n",
              "      <td>lessOften</td>\n",
              "      <td>moreOften</td>\n",
              "      <td>never</td>\n",
              "      <td>never</td>\n",
              "      <td>never</td>\n",
              "      <td>sometimes</td>\n",
              "      <td>never</td>\n",
              "      <td>lessOften</td>\n",
              "      <td>never</td>\n",
              "      <td>never</td>\n",
              "      <td>sometimes</td>\n",
              "      <td>lessOften</td>\n",
              "      <td>sometimes</td>\n",
              "      <td>low</td>\n",
              "    </tr>\n",
              "    <tr>\n",
              "      <th>498</th>\n",
              "      <td>499</td>\n",
              "      <td>moreOften</td>\n",
              "      <td>lessOften</td>\n",
              "      <td>lessOften</td>\n",
              "      <td>never</td>\n",
              "      <td>never</td>\n",
              "      <td>lessOften</td>\n",
              "      <td>lessOften</td>\n",
              "      <td>never</td>\n",
              "      <td>never</td>\n",
              "      <td>lessOften</td>\n",
              "      <td>sometimes</td>\n",
              "      <td>moreOften</td>\n",
              "      <td>sometimes</td>\n",
              "      <td>sometimes</td>\n",
              "      <td>lessOften</td>\n",
              "      <td>lessOften</td>\n",
              "      <td>low</td>\n",
              "    </tr>\n",
              "  </tbody>\n",
              "</table>\n",
              "</div>\n",
              "      <button class=\"colab-df-convert\" onclick=\"convertToInteractive('df-03c1ad71-5a7e-4b1f-b122-ea4a38bebb5c')\"\n",
              "              title=\"Convert this dataframe to an interactive table.\"\n",
              "              style=\"display:none;\">\n",
              "        \n",
              "  <svg xmlns=\"http://www.w3.org/2000/svg\" height=\"24px\"viewBox=\"0 0 24 24\"\n",
              "       width=\"24px\">\n",
              "    <path d=\"M0 0h24v24H0V0z\" fill=\"none\"/>\n",
              "    <path d=\"M18.56 5.44l.94 2.06.94-2.06 2.06-.94-2.06-.94-.94-2.06-.94 2.06-2.06.94zm-11 1L8.5 8.5l.94-2.06 2.06-.94-2.06-.94L8.5 2.5l-.94 2.06-2.06.94zm10 10l.94 2.06.94-2.06 2.06-.94-2.06-.94-.94-2.06-.94 2.06-2.06.94z\"/><path d=\"M17.41 7.96l-1.37-1.37c-.4-.4-.92-.59-1.43-.59-.52 0-1.04.2-1.43.59L10.3 9.45l-7.72 7.72c-.78.78-.78 2.05 0 2.83L4 21.41c.39.39.9.59 1.41.59.51 0 1.02-.2 1.41-.59l7.78-7.78 2.81-2.81c.8-.78.8-2.07 0-2.86zM5.41 20L4 18.59l7.72-7.72 1.47 1.35L5.41 20z\"/>\n",
              "  </svg>\n",
              "      </button>\n",
              "      \n",
              "  <style>\n",
              "    .colab-df-container {\n",
              "      display:flex;\n",
              "      flex-wrap:wrap;\n",
              "      gap: 12px;\n",
              "    }\n",
              "\n",
              "    .colab-df-convert {\n",
              "      background-color: #E8F0FE;\n",
              "      border: none;\n",
              "      border-radius: 50%;\n",
              "      cursor: pointer;\n",
              "      display: none;\n",
              "      fill: #1967D2;\n",
              "      height: 32px;\n",
              "      padding: 0 0 0 0;\n",
              "      width: 32px;\n",
              "    }\n",
              "\n",
              "    .colab-df-convert:hover {\n",
              "      background-color: #E2EBFA;\n",
              "      box-shadow: 0px 1px 2px rgba(60, 64, 67, 0.3), 0px 1px 3px 1px rgba(60, 64, 67, 0.15);\n",
              "      fill: #174EA6;\n",
              "    }\n",
              "\n",
              "    [theme=dark] .colab-df-convert {\n",
              "      background-color: #3B4455;\n",
              "      fill: #D2E3FC;\n",
              "    }\n",
              "\n",
              "    [theme=dark] .colab-df-convert:hover {\n",
              "      background-color: #434B5C;\n",
              "      box-shadow: 0px 1px 3px 1px rgba(0, 0, 0, 0.15);\n",
              "      filter: drop-shadow(0px 1px 2px rgba(0, 0, 0, 0.3));\n",
              "      fill: #FFFFFF;\n",
              "    }\n",
              "  </style>\n",
              "\n",
              "      <script>\n",
              "        const buttonEl =\n",
              "          document.querySelector('#df-03c1ad71-5a7e-4b1f-b122-ea4a38bebb5c button.colab-df-convert');\n",
              "        buttonEl.style.display =\n",
              "          google.colab.kernel.accessAllowed ? 'block' : 'none';\n",
              "\n",
              "        async function convertToInteractive(key) {\n",
              "          const element = document.querySelector('#df-03c1ad71-5a7e-4b1f-b122-ea4a38bebb5c');\n",
              "          const dataTable =\n",
              "            await google.colab.kernel.invokeFunction('convertToInteractive',\n",
              "                                                     [key], {});\n",
              "          if (!dataTable) return;\n",
              "\n",
              "          const docLinkHtml = 'Like what you see? Visit the ' +\n",
              "            '<a target=\"_blank\" href=https://colab.research.google.com/notebooks/data_table.ipynb>data table notebook</a>'\n",
              "            + ' to learn more about interactive tables.';\n",
              "          element.innerHTML = '';\n",
              "          dataTable['output_type'] = 'display_data';\n",
              "          await google.colab.output.renderOutput(dataTable, element);\n",
              "          const docLink = document.createElement('div');\n",
              "          docLink.innerHTML = docLinkHtml;\n",
              "          element.appendChild(docLink);\n",
              "        }\n",
              "      </script>\n",
              "    </div>\n",
              "  </div>\n",
              "  "
            ]
          },
          "metadata": {},
          "execution_count": 42
        }
      ]
    },
    {
      "cell_type": "code",
      "source": [
        "df.shape"
      ],
      "metadata": {
        "colab": {
          "base_uri": "https://localhost:8080/"
        },
        "id": "HvtZ4PjrzhAm",
        "outputId": "cbdc5c28-82af-408a-ec96-3b93c974a144"
      },
      "execution_count": null,
      "outputs": [
        {
          "output_type": "execute_result",
          "data": {
            "text/plain": [
              "(499, 18)"
            ]
          },
          "metadata": {},
          "execution_count": 43
        }
      ]
    },
    {
      "cell_type": "code",
      "source": [
        "df.info()"
      ],
      "metadata": {
        "colab": {
          "base_uri": "https://localhost:8080/"
        },
        "id": "nPB_0fKtzp8_",
        "outputId": "93b89588-4364-4829-ef51-f9cdb1024f85"
      },
      "execution_count": null,
      "outputs": [
        {
          "output_type": "stream",
          "name": "stdout",
          "text": [
            "<class 'pandas.core.frame.DataFrame'>\n",
            "RangeIndex: 499 entries, 0 to 498\n",
            "Data columns (total 18 columns):\n",
            " #   Column                     Non-Null Count  Dtype \n",
            "---  ------                     --------------  ----- \n",
            " 0   ID                         499 non-null    int64 \n",
            " 1   genHistory                 499 non-null    object\n",
            " 2   hyperactivity              499 non-null    object\n",
            " 3   forgetfulness              499 non-null    object\n",
            " 4   disobeyInst                499 non-null    object\n",
            " 5   noDangerSense              499 non-null    object\n",
            " 6   antisocial                 499 non-null    object\n",
            " 7   harmingNature              499 non-null    object\n",
            " 8   irrSleep                   499 non-null    object\n",
            " 9   lowEsteem                  499 non-null    object\n",
            " 10  repTempTantrum             499 non-null    object\n",
            " 11  noAttention                499 non-null    object\n",
            " 12  repeatWords                499 non-null    object\n",
            " 13  respNamesBy9months         499 non-null    object\n",
            " 14  noPlaywithOtherby36Months  499 non-null    object\n",
            " 15  noGestures12Months         499 non-null    object\n",
            " 16  unusualEating              499 non-null    object\n",
            " 17  chanceOfDisorder           499 non-null    object\n",
            "dtypes: int64(1), object(17)\n",
            "memory usage: 70.3+ KB\n"
          ]
        }
      ]
    },
    {
      "cell_type": "code",
      "source": [
        "df= df.drop('ID', axis=1)"
      ],
      "metadata": {
        "id": "zYV3erLGvVBl"
      },
      "execution_count": null,
      "outputs": []
    },
    {
      "cell_type": "code",
      "source": [
        "df"
      ],
      "metadata": {
        "colab": {
          "base_uri": "https://localhost:8080/",
          "height": 487
        },
        "id": "7ORz53Qib3le",
        "outputId": "59430c9a-5d7a-464b-80c7-ed30451a68fe"
      },
      "execution_count": null,
      "outputs": [
        {
          "output_type": "execute_result",
          "data": {
            "text/plain": [
              "    genHistory hyperactivity forgetfulness disobeyInst noDangerSense  \\\n",
              "0    lessOften         never         never       never     sometimes   \n",
              "1        never     lessOften     lessOften   lessOften         never   \n",
              "2    moreOften     sometimes     sometimes       never         never   \n",
              "3    sometimes     sometimes     lessOften   sometimes     lessOften   \n",
              "4    sometimes     moreOften     moreOften   moreOften         never   \n",
              "..         ...           ...           ...         ...           ...   \n",
              "494  moreOften     moreOften     moreOften   sometimes         never   \n",
              "495  lessOften     moreOften     moreOften   sometimes     lessOften   \n",
              "496  lessOften     moreOften     lessOften   lessOften     moreOften   \n",
              "497  sometimes         never     moreOften   lessOften     moreOften   \n",
              "498  moreOften     lessOften     lessOften       never         never   \n",
              "\n",
              "    antisocial harmingNature   irrSleep  lowEsteem repTempTantrum noAttention  \\\n",
              "0    sometimes     sometimes  lessOften  sometimes      sometimes       never   \n",
              "1    lessOften     lessOften  sometimes  lessOften      sometimes       never   \n",
              "2    sometimes     sometimes  lessOften      never          never   moreOften   \n",
              "3    lessOften     lessOften      never  moreOften      moreOften   sometimes   \n",
              "4        never         never  lessOften      never      moreOften   moreOften   \n",
              "..         ...           ...        ...        ...            ...         ...   \n",
              "494      never         never  lessOften  sometimes      sometimes       never   \n",
              "495  sometimes     sometimes  moreOften      never      moreOften   sometimes   \n",
              "496  sometimes     sometimes  sometimes  moreOften      sometimes       never   \n",
              "497      never         never      never  sometimes          never   lessOften   \n",
              "498  lessOften     lessOften      never      never      lessOften   sometimes   \n",
              "\n",
              "    repeatWords respNamesBy9months noPlaywithOtherby36Months  \\\n",
              "0         never          sometimes                 lessOften   \n",
              "1     sometimes              never                 lessOften   \n",
              "2     sometimes          moreOften                     never   \n",
              "3     moreOften          moreOften                 lessOften   \n",
              "4     lessOften              never                 moreOften   \n",
              "..          ...                ...                       ...   \n",
              "494   moreOften          moreOften                     never   \n",
              "495       never          sometimes                 moreOften   \n",
              "496   lessOften          lessOften                 moreOften   \n",
              "497       never              never                 sometimes   \n",
              "498   moreOften          sometimes                 sometimes   \n",
              "\n",
              "    noGestures12Months unusualEating chanceOfDisorder  \n",
              "0                never     sometimes              low  \n",
              "1            sometimes     moreOften              low  \n",
              "2            lessOften     moreOften              low  \n",
              "3            sometimes     sometimes             high  \n",
              "4                never     sometimes              low  \n",
              "..                 ...           ...              ...  \n",
              "494          moreOften     sometimes             high  \n",
              "495              never     lessOften             high  \n",
              "496          sometimes         never              low  \n",
              "497          lessOften     sometimes              low  \n",
              "498          lessOften     lessOften              low  \n",
              "\n",
              "[499 rows x 17 columns]"
            ],
            "text/html": [
              "\n",
              "  <div id=\"df-314145d5-f13f-4871-aa45-c7c6330e1626\">\n",
              "    <div class=\"colab-df-container\">\n",
              "      <div>\n",
              "<style scoped>\n",
              "    .dataframe tbody tr th:only-of-type {\n",
              "        vertical-align: middle;\n",
              "    }\n",
              "\n",
              "    .dataframe tbody tr th {\n",
              "        vertical-align: top;\n",
              "    }\n",
              "\n",
              "    .dataframe thead th {\n",
              "        text-align: right;\n",
              "    }\n",
              "</style>\n",
              "<table border=\"1\" class=\"dataframe\">\n",
              "  <thead>\n",
              "    <tr style=\"text-align: right;\">\n",
              "      <th></th>\n",
              "      <th>genHistory</th>\n",
              "      <th>hyperactivity</th>\n",
              "      <th>forgetfulness</th>\n",
              "      <th>disobeyInst</th>\n",
              "      <th>noDangerSense</th>\n",
              "      <th>antisocial</th>\n",
              "      <th>harmingNature</th>\n",
              "      <th>irrSleep</th>\n",
              "      <th>lowEsteem</th>\n",
              "      <th>repTempTantrum</th>\n",
              "      <th>noAttention</th>\n",
              "      <th>repeatWords</th>\n",
              "      <th>respNamesBy9months</th>\n",
              "      <th>noPlaywithOtherby36Months</th>\n",
              "      <th>noGestures12Months</th>\n",
              "      <th>unusualEating</th>\n",
              "      <th>chanceOfDisorder</th>\n",
              "    </tr>\n",
              "  </thead>\n",
              "  <tbody>\n",
              "    <tr>\n",
              "      <th>0</th>\n",
              "      <td>lessOften</td>\n",
              "      <td>never</td>\n",
              "      <td>never</td>\n",
              "      <td>never</td>\n",
              "      <td>sometimes</td>\n",
              "      <td>sometimes</td>\n",
              "      <td>sometimes</td>\n",
              "      <td>lessOften</td>\n",
              "      <td>sometimes</td>\n",
              "      <td>sometimes</td>\n",
              "      <td>never</td>\n",
              "      <td>never</td>\n",
              "      <td>sometimes</td>\n",
              "      <td>lessOften</td>\n",
              "      <td>never</td>\n",
              "      <td>sometimes</td>\n",
              "      <td>low</td>\n",
              "    </tr>\n",
              "    <tr>\n",
              "      <th>1</th>\n",
              "      <td>never</td>\n",
              "      <td>lessOften</td>\n",
              "      <td>lessOften</td>\n",
              "      <td>lessOften</td>\n",
              "      <td>never</td>\n",
              "      <td>lessOften</td>\n",
              "      <td>lessOften</td>\n",
              "      <td>sometimes</td>\n",
              "      <td>lessOften</td>\n",
              "      <td>sometimes</td>\n",
              "      <td>never</td>\n",
              "      <td>sometimes</td>\n",
              "      <td>never</td>\n",
              "      <td>lessOften</td>\n",
              "      <td>sometimes</td>\n",
              "      <td>moreOften</td>\n",
              "      <td>low</td>\n",
              "    </tr>\n",
              "    <tr>\n",
              "      <th>2</th>\n",
              "      <td>moreOften</td>\n",
              "      <td>sometimes</td>\n",
              "      <td>sometimes</td>\n",
              "      <td>never</td>\n",
              "      <td>never</td>\n",
              "      <td>sometimes</td>\n",
              "      <td>sometimes</td>\n",
              "      <td>lessOften</td>\n",
              "      <td>never</td>\n",
              "      <td>never</td>\n",
              "      <td>moreOften</td>\n",
              "      <td>sometimes</td>\n",
              "      <td>moreOften</td>\n",
              "      <td>never</td>\n",
              "      <td>lessOften</td>\n",
              "      <td>moreOften</td>\n",
              "      <td>low</td>\n",
              "    </tr>\n",
              "    <tr>\n",
              "      <th>3</th>\n",
              "      <td>sometimes</td>\n",
              "      <td>sometimes</td>\n",
              "      <td>lessOften</td>\n",
              "      <td>sometimes</td>\n",
              "      <td>lessOften</td>\n",
              "      <td>lessOften</td>\n",
              "      <td>lessOften</td>\n",
              "      <td>never</td>\n",
              "      <td>moreOften</td>\n",
              "      <td>moreOften</td>\n",
              "      <td>sometimes</td>\n",
              "      <td>moreOften</td>\n",
              "      <td>moreOften</td>\n",
              "      <td>lessOften</td>\n",
              "      <td>sometimes</td>\n",
              "      <td>sometimes</td>\n",
              "      <td>high</td>\n",
              "    </tr>\n",
              "    <tr>\n",
              "      <th>4</th>\n",
              "      <td>sometimes</td>\n",
              "      <td>moreOften</td>\n",
              "      <td>moreOften</td>\n",
              "      <td>moreOften</td>\n",
              "      <td>never</td>\n",
              "      <td>never</td>\n",
              "      <td>never</td>\n",
              "      <td>lessOften</td>\n",
              "      <td>never</td>\n",
              "      <td>moreOften</td>\n",
              "      <td>moreOften</td>\n",
              "      <td>lessOften</td>\n",
              "      <td>never</td>\n",
              "      <td>moreOften</td>\n",
              "      <td>never</td>\n",
              "      <td>sometimes</td>\n",
              "      <td>low</td>\n",
              "    </tr>\n",
              "    <tr>\n",
              "      <th>...</th>\n",
              "      <td>...</td>\n",
              "      <td>...</td>\n",
              "      <td>...</td>\n",
              "      <td>...</td>\n",
              "      <td>...</td>\n",
              "      <td>...</td>\n",
              "      <td>...</td>\n",
              "      <td>...</td>\n",
              "      <td>...</td>\n",
              "      <td>...</td>\n",
              "      <td>...</td>\n",
              "      <td>...</td>\n",
              "      <td>...</td>\n",
              "      <td>...</td>\n",
              "      <td>...</td>\n",
              "      <td>...</td>\n",
              "      <td>...</td>\n",
              "    </tr>\n",
              "    <tr>\n",
              "      <th>494</th>\n",
              "      <td>moreOften</td>\n",
              "      <td>moreOften</td>\n",
              "      <td>moreOften</td>\n",
              "      <td>sometimes</td>\n",
              "      <td>never</td>\n",
              "      <td>never</td>\n",
              "      <td>never</td>\n",
              "      <td>lessOften</td>\n",
              "      <td>sometimes</td>\n",
              "      <td>sometimes</td>\n",
              "      <td>never</td>\n",
              "      <td>moreOften</td>\n",
              "      <td>moreOften</td>\n",
              "      <td>never</td>\n",
              "      <td>moreOften</td>\n",
              "      <td>sometimes</td>\n",
              "      <td>high</td>\n",
              "    </tr>\n",
              "    <tr>\n",
              "      <th>495</th>\n",
              "      <td>lessOften</td>\n",
              "      <td>moreOften</td>\n",
              "      <td>moreOften</td>\n",
              "      <td>sometimes</td>\n",
              "      <td>lessOften</td>\n",
              "      <td>sometimes</td>\n",
              "      <td>sometimes</td>\n",
              "      <td>moreOften</td>\n",
              "      <td>never</td>\n",
              "      <td>moreOften</td>\n",
              "      <td>sometimes</td>\n",
              "      <td>never</td>\n",
              "      <td>sometimes</td>\n",
              "      <td>moreOften</td>\n",
              "      <td>never</td>\n",
              "      <td>lessOften</td>\n",
              "      <td>high</td>\n",
              "    </tr>\n",
              "    <tr>\n",
              "      <th>496</th>\n",
              "      <td>lessOften</td>\n",
              "      <td>moreOften</td>\n",
              "      <td>lessOften</td>\n",
              "      <td>lessOften</td>\n",
              "      <td>moreOften</td>\n",
              "      <td>sometimes</td>\n",
              "      <td>sometimes</td>\n",
              "      <td>sometimes</td>\n",
              "      <td>moreOften</td>\n",
              "      <td>sometimes</td>\n",
              "      <td>never</td>\n",
              "      <td>lessOften</td>\n",
              "      <td>lessOften</td>\n",
              "      <td>moreOften</td>\n",
              "      <td>sometimes</td>\n",
              "      <td>never</td>\n",
              "      <td>low</td>\n",
              "    </tr>\n",
              "    <tr>\n",
              "      <th>497</th>\n",
              "      <td>sometimes</td>\n",
              "      <td>never</td>\n",
              "      <td>moreOften</td>\n",
              "      <td>lessOften</td>\n",
              "      <td>moreOften</td>\n",
              "      <td>never</td>\n",
              "      <td>never</td>\n",
              "      <td>never</td>\n",
              "      <td>sometimes</td>\n",
              "      <td>never</td>\n",
              "      <td>lessOften</td>\n",
              "      <td>never</td>\n",
              "      <td>never</td>\n",
              "      <td>sometimes</td>\n",
              "      <td>lessOften</td>\n",
              "      <td>sometimes</td>\n",
              "      <td>low</td>\n",
              "    </tr>\n",
              "    <tr>\n",
              "      <th>498</th>\n",
              "      <td>moreOften</td>\n",
              "      <td>lessOften</td>\n",
              "      <td>lessOften</td>\n",
              "      <td>never</td>\n",
              "      <td>never</td>\n",
              "      <td>lessOften</td>\n",
              "      <td>lessOften</td>\n",
              "      <td>never</td>\n",
              "      <td>never</td>\n",
              "      <td>lessOften</td>\n",
              "      <td>sometimes</td>\n",
              "      <td>moreOften</td>\n",
              "      <td>sometimes</td>\n",
              "      <td>sometimes</td>\n",
              "      <td>lessOften</td>\n",
              "      <td>lessOften</td>\n",
              "      <td>low</td>\n",
              "    </tr>\n",
              "  </tbody>\n",
              "</table>\n",
              "<p>499 rows × 17 columns</p>\n",
              "</div>\n",
              "      <button class=\"colab-df-convert\" onclick=\"convertToInteractive('df-314145d5-f13f-4871-aa45-c7c6330e1626')\"\n",
              "              title=\"Convert this dataframe to an interactive table.\"\n",
              "              style=\"display:none;\">\n",
              "        \n",
              "  <svg xmlns=\"http://www.w3.org/2000/svg\" height=\"24px\"viewBox=\"0 0 24 24\"\n",
              "       width=\"24px\">\n",
              "    <path d=\"M0 0h24v24H0V0z\" fill=\"none\"/>\n",
              "    <path d=\"M18.56 5.44l.94 2.06.94-2.06 2.06-.94-2.06-.94-.94-2.06-.94 2.06-2.06.94zm-11 1L8.5 8.5l.94-2.06 2.06-.94-2.06-.94L8.5 2.5l-.94 2.06-2.06.94zm10 10l.94 2.06.94-2.06 2.06-.94-2.06-.94-.94-2.06-.94 2.06-2.06.94z\"/><path d=\"M17.41 7.96l-1.37-1.37c-.4-.4-.92-.59-1.43-.59-.52 0-1.04.2-1.43.59L10.3 9.45l-7.72 7.72c-.78.78-.78 2.05 0 2.83L4 21.41c.39.39.9.59 1.41.59.51 0 1.02-.2 1.41-.59l7.78-7.78 2.81-2.81c.8-.78.8-2.07 0-2.86zM5.41 20L4 18.59l7.72-7.72 1.47 1.35L5.41 20z\"/>\n",
              "  </svg>\n",
              "      </button>\n",
              "      \n",
              "  <style>\n",
              "    .colab-df-container {\n",
              "      display:flex;\n",
              "      flex-wrap:wrap;\n",
              "      gap: 12px;\n",
              "    }\n",
              "\n",
              "    .colab-df-convert {\n",
              "      background-color: #E8F0FE;\n",
              "      border: none;\n",
              "      border-radius: 50%;\n",
              "      cursor: pointer;\n",
              "      display: none;\n",
              "      fill: #1967D2;\n",
              "      height: 32px;\n",
              "      padding: 0 0 0 0;\n",
              "      width: 32px;\n",
              "    }\n",
              "\n",
              "    .colab-df-convert:hover {\n",
              "      background-color: #E2EBFA;\n",
              "      box-shadow: 0px 1px 2px rgba(60, 64, 67, 0.3), 0px 1px 3px 1px rgba(60, 64, 67, 0.15);\n",
              "      fill: #174EA6;\n",
              "    }\n",
              "\n",
              "    [theme=dark] .colab-df-convert {\n",
              "      background-color: #3B4455;\n",
              "      fill: #D2E3FC;\n",
              "    }\n",
              "\n",
              "    [theme=dark] .colab-df-convert:hover {\n",
              "      background-color: #434B5C;\n",
              "      box-shadow: 0px 1px 3px 1px rgba(0, 0, 0, 0.15);\n",
              "      filter: drop-shadow(0px 1px 2px rgba(0, 0, 0, 0.3));\n",
              "      fill: #FFFFFF;\n",
              "    }\n",
              "  </style>\n",
              "\n",
              "      <script>\n",
              "        const buttonEl =\n",
              "          document.querySelector('#df-314145d5-f13f-4871-aa45-c7c6330e1626 button.colab-df-convert');\n",
              "        buttonEl.style.display =\n",
              "          google.colab.kernel.accessAllowed ? 'block' : 'none';\n",
              "\n",
              "        async function convertToInteractive(key) {\n",
              "          const element = document.querySelector('#df-314145d5-f13f-4871-aa45-c7c6330e1626');\n",
              "          const dataTable =\n",
              "            await google.colab.kernel.invokeFunction('convertToInteractive',\n",
              "                                                     [key], {});\n",
              "          if (!dataTable) return;\n",
              "\n",
              "          const docLinkHtml = 'Like what you see? Visit the ' +\n",
              "            '<a target=\"_blank\" href=https://colab.research.google.com/notebooks/data_table.ipynb>data table notebook</a>'\n",
              "            + ' to learn more about interactive tables.';\n",
              "          element.innerHTML = '';\n",
              "          dataTable['output_type'] = 'display_data';\n",
              "          await google.colab.output.renderOutput(dataTable, element);\n",
              "          const docLink = document.createElement('div');\n",
              "          docLink.innerHTML = docLinkHtml;\n",
              "          element.appendChild(docLink);\n",
              "        }\n",
              "      </script>\n",
              "    </div>\n",
              "  </div>\n",
              "  "
            ]
          },
          "metadata": {},
          "execution_count": 46
        }
      ]
    },
    {
      "cell_type": "markdown",
      "source": [
        "EDA"
      ],
      "metadata": {
        "id": "u-642wv9peU6"
      }
    },
    {
      "cell_type": "markdown",
      "source": [
        "Countplot"
      ],
      "metadata": {
        "id": "Qmj5DYVnr2jy"
      }
    },
    {
      "cell_type": "code",
      "source": [
        "sns.countplot(df['unusualEating'])\n",
        "df['unusualEating'].value_counts()"
      ],
      "metadata": {
        "colab": {
          "base_uri": "https://localhost:8080/",
          "height": 420
        },
        "id": "RnOS8A7hqaHB",
        "outputId": "98da0e05-710d-472c-b94a-4b7b28eb7019"
      },
      "execution_count": null,
      "outputs": [
        {
          "output_type": "stream",
          "name": "stderr",
          "text": [
            "/usr/local/lib/python3.8/dist-packages/seaborn/_decorators.py:36: FutureWarning: Pass the following variable as a keyword arg: x. From version 0.12, the only valid positional argument will be `data`, and passing other arguments without an explicit keyword will result in an error or misinterpretation.\n",
            "  warnings.warn(\n"
          ]
        },
        {
          "output_type": "execute_result",
          "data": {
            "text/plain": [
              "moreOften    145\n",
              "sometimes    121\n",
              "never        121\n",
              "lessOften    112\n",
              "Name: unusualEating, dtype: int64"
            ]
          },
          "metadata": {},
          "execution_count": 47
        },
        {
          "output_type": "display_data",
          "data": {
            "text/plain": [
              "<Figure size 432x288 with 1 Axes>"
            ],
            "image/png": "[encoded data removed]"
          },
          "metadata": {}
        }
      ]
    },
    {
      "cell_type": "markdown",
      "source": [
        "pichart"
      ],
      "metadata": {
        "id": "Wxcyb0ycr-UJ"
      }
    },
    {
      "cell_type": "code",
      "source": [
        "df['antisocial'].value_counts().plot(kind='pie', autopct='%.2f')"
      ],
      "metadata": {
        "colab": {
          "base_uri": "https://localhost:8080/",
          "height": 265
        },
        "id": "oXN4arGyr91e",
        "outputId": "b1a648bc-66ef-45d7-fa8a-6ff9b8db4c1e"
      },
      "execution_count": null,
      "outputs": [
        {
          "output_type": "execute_result",
          "data": {
            "text/plain": [
              "<matplotlib.axes._subplots.AxesSubplot at 0x7fbef9f95b50>"
            ]
          },
          "metadata": {},
          "execution_count": 48
        },
        {
          "output_type": "display_data",
          "data": {
            "text/plain": [
              "<Figure size 432x288 with 1 Axes>"
            ],
            "image/png": "[encoded data removed]"
          },
          "metadata": {}
        }
      ]
    },
    {
      "cell_type": "markdown",
      "source": [
        "For categorical data(multivariate)"
      ],
      "metadata": {
        "id": "AdK6i9BFuoMS"
      }
    },
    {
      "cell_type": "code",
      "source": [
        "df.head()"
      ],
      "metadata": {
        "colab": {
          "base_uri": "https://localhost:8080/",
          "height": 270
        },
        "id": "ml8OnLKSynaV",
        "outputId": "a3aaa120-7cff-4883-c57a-f56f4099cb0e"
      },
      "execution_count": null,
      "outputs": [
        {
          "output_type": "execute_result",
          "data": {
            "text/plain": [
              "  genHistory hyperactivity forgetfulness disobeyInst noDangerSense antisocial  \\\n",
              "0  lessOften         never         never       never     sometimes  sometimes   \n",
              "1      never     lessOften     lessOften   lessOften         never  lessOften   \n",
              "2  moreOften     sometimes     sometimes       never         never  sometimes   \n",
              "3  sometimes     sometimes     lessOften   sometimes     lessOften  lessOften   \n",
              "4  sometimes     moreOften     moreOften   moreOften         never      never   \n",
              "\n",
              "  harmingNature   irrSleep  lowEsteem repTempTantrum noAttention repeatWords  \\\n",
              "0     sometimes  lessOften  sometimes      sometimes       never       never   \n",
              "1     lessOften  sometimes  lessOften      sometimes       never   sometimes   \n",
              "2     sometimes  lessOften      never          never   moreOften   sometimes   \n",
              "3     lessOften      never  moreOften      moreOften   sometimes   moreOften   \n",
              "4         never  lessOften      never      moreOften   moreOften   lessOften   \n",
              "\n",
              "  respNamesBy9months noPlaywithOtherby36Months noGestures12Months  \\\n",
              "0          sometimes                 lessOften              never   \n",
              "1              never                 lessOften          sometimes   \n",
              "2          moreOften                     never          lessOften   \n",
              "3          moreOften                 lessOften          sometimes   \n",
              "4              never                 moreOften              never   \n",
              "\n",
              "  unusualEating chanceOfDisorder  \n",
              "0     sometimes              low  \n",
              "1     moreOften              low  \n",
              "2     moreOften              low  \n",
              "3     sometimes             high  \n",
              "4     sometimes              low  "
            ],
            "text/html": [
              "\n",
              "  <div id=\"df-4a6d93df-c9cc-4175-810a-0accfa502a67\">\n",
              "    <div class=\"colab-df-container\">\n",
              "      <div>\n",
              "<style scoped>\n",
              "    .dataframe tbody tr th:only-of-type {\n",
              "        vertical-align: middle;\n",
              "    }\n",
              "\n",
              "    .dataframe tbody tr th {\n",
              "        vertical-align: top;\n",
              "    }\n",
              "\n",
              "    .dataframe thead th {\n",
              "        text-align: right;\n",
              "    }\n",
              "</style>\n",
              "<table border=\"1\" class=\"dataframe\">\n",
              "  <thead>\n",
              "    <tr style=\"text-align: right;\">\n",
              "      <th></th>\n",
              "      <th>genHistory</th>\n",
              "      <th>hyperactivity</th>\n",
              "      <th>forgetfulness</th>\n",
              "      <th>disobeyInst</th>\n",
              "      <th>noDangerSense</th>\n",
              "      <th>antisocial</th>\n",
              "      <th>harmingNature</th>\n",
              "      <th>irrSleep</th>\n",
              "      <th>lowEsteem</th>\n",
              "      <th>repTempTantrum</th>\n",
              "      <th>noAttention</th>\n",
              "      <th>repeatWords</th>\n",
              "      <th>respNamesBy9months</th>\n",
              "      <th>noPlaywithOtherby36Months</th>\n",
              "      <th>noGestures12Months</th>\n",
              "      <th>unusualEating</th>\n",
              "      <th>chanceOfDisorder</th>\n",
              "    </tr>\n",
              "  </thead>\n",
              "  <tbody>\n",
              "    <tr>\n",
              "      <th>0</th>\n",
              "      <td>lessOften</td>\n",
              "      <td>never</td>\n",
              "      <td>never</td>\n",
              "      <td>never</td>\n",
              "      <td>sometimes</td>\n",
              "      <td>sometimes</td>\n",
              "      <td>sometimes</td>\n",
              "      <td>lessOften</td>\n",
              "      <td>sometimes</td>\n",
              "      <td>sometimes</td>\n",
              "      <td>never</td>\n",
              "      <td>never</td>\n",
              "      <td>sometimes</td>\n",
              "      <td>lessOften</td>\n",
              "      <td>never</td>\n",
              "      <td>sometimes</td>\n",
              "      <td>low</td>\n",
              "    </tr>\n",
              "    <tr>\n",
              "      <th>1</th>\n",
              "      <td>never</td>\n",
              "      <td>lessOften</td>\n",
              "      <td>lessOften</td>\n",
              "      <td>lessOften</td>\n",
              "      <td>never</td>\n",
              "      <td>lessOften</td>\n",
              "      <td>lessOften</td>\n",
              "      <td>sometimes</td>\n",
              "      <td>lessOften</td>\n",
              "      <td>sometimes</td>\n",
              "      <td>never</td>\n",
              "      <td>sometimes</td>\n",
              "      <td>never</td>\n",
              "      <td>lessOften</td>\n",
              "      <td>sometimes</td>\n",
              "      <td>moreOften</td>\n",
              "      <td>low</td>\n",
              "    </tr>\n",
              "    <tr>\n",
              "      <th>2</th>\n",
              "      <td>moreOften</td>\n",
              "      <td>sometimes</td>\n",
              "      <td>sometimes</td>\n",
              "      <td>never</td>\n",
              "      <td>never</td>\n",
              "      <td>sometimes</td>\n",
              "      <td>sometimes</td>\n",
              "      <td>lessOften</td>\n",
              "      <td>never</td>\n",
              "      <td>never</td>\n",
              "      <td>moreOften</td>\n",
              "      <td>sometimes</td>\n",
              "      <td>moreOften</td>\n",
              "      <td>never</td>\n",
              "      <td>lessOften</td>\n",
              "      <td>moreOften</td>\n",
              "      <td>low</td>\n",
              "    </tr>\n",
              "    <tr>\n",
              "      <th>3</th>\n",
              "      <td>sometimes</td>\n",
              "      <td>sometimes</td>\n",
              "      <td>lessOften</td>\n",
              "      <td>sometimes</td>\n",
              "      <td>lessOften</td>\n",
              "      <td>lessOften</td>\n",
              "      <td>lessOften</td>\n",
              "      <td>never</td>\n",
              "      <td>moreOften</td>\n",
              "      <td>moreOften</td>\n",
              "      <td>sometimes</td>\n",
              "      <td>moreOften</td>\n",
              "      <td>moreOften</td>\n",
              "      <td>lessOften</td>\n",
              "      <td>sometimes</td>\n",
              "      <td>sometimes</td>\n",
              "      <td>high</td>\n",
              "    </tr>\n",
              "    <tr>\n",
              "      <th>4</th>\n",
              "      <td>sometimes</td>\n",
              "      <td>moreOften</td>\n",
              "      <td>moreOften</td>\n",
              "      <td>moreOften</td>\n",
              "      <td>never</td>\n",
              "      <td>never</td>\n",
              "      <td>never</td>\n",
              "      <td>lessOften</td>\n",
              "      <td>never</td>\n",
              "      <td>moreOften</td>\n",
              "      <td>moreOften</td>\n",
              "      <td>lessOften</td>\n",
              "      <td>never</td>\n",
              "      <td>moreOften</td>\n",
              "      <td>never</td>\n",
              "      <td>sometimes</td>\n",
              "      <td>low</td>\n",
              "    </tr>\n",
              "  </tbody>\n",
              "</table>\n",
              "</div>\n",
              "      <button class=\"colab-df-convert\" onclick=\"convertToInteractive('df-4a6d93df-c9cc-4175-810a-0accfa502a67')\"\n",
              "              title=\"Convert this dataframe to an interactive table.\"\n",
              "              style=\"display:none;\">\n",
              "        \n",
              "  <svg xmlns=\"http://www.w3.org/2000/svg\" height=\"24px\"viewBox=\"0 0 24 24\"\n",
              "       width=\"24px\">\n",
              "    <path d=\"M0 0h24v24H0V0z\" fill=\"none\"/>\n",
              "    <path d=\"M18.56 5.44l.94 2.06.94-2.06 2.06-.94-2.06-.94-.94-2.06-.94 2.06-2.06.94zm-11 1L8.5 8.5l.94-2.06 2.06-.94-2.06-.94L8.5 2.5l-.94 2.06-2.06.94zm10 10l.94 2.06.94-2.06 2.06-.94-2.06-.94-.94-2.06-.94 2.06-2.06.94z\"/><path d=\"M17.41 7.96l-1.37-1.37c-.4-.4-.92-.59-1.43-.59-.52 0-1.04.2-1.43.59L10.3 9.45l-7.72 7.72c-.78.78-.78 2.05 0 2.83L4 21.41c.39.39.9.59 1.41.59.51 0 1.02-.2 1.41-.59l7.78-7.78 2.81-2.81c.8-.78.8-2.07 0-2.86zM5.41 20L4 18.59l7.72-7.72 1.47 1.35L5.41 20z\"/>\n",
              "  </svg>\n",
              "      </button>\n",
              "      \n",
              "  <style>\n",
              "    .colab-df-container {\n",
              "      display:flex;\n",
              "      flex-wrap:wrap;\n",
              "      gap: 12px;\n",
              "    }\n",
              "\n",
              "    .colab-df-convert {\n",
              "      background-color: #E8F0FE;\n",
              "      border: none;\n",
              "      border-radius: 50%;\n",
              "      cursor: pointer;\n",
              "      display: none;\n",
              "      fill: #1967D2;\n",
              "      height: 32px;\n",
              "      padding: 0 0 0 0;\n",
              "      width: 32px;\n",
              "    }\n",
              "\n",
              "    .colab-df-convert:hover {\n",
              "      background-color: #E2EBFA;\n",
              "      box-shadow: 0px 1px 2px rgba(60, 64, 67, 0.3), 0px 1px 3px 1px rgba(60, 64, 67, 0.15);\n",
              "      fill: #174EA6;\n",
              "    }\n",
              "\n",
              "    [theme=dark] .colab-df-convert {\n",
              "      background-color: #3B4455;\n",
              "      fill: #D2E3FC;\n",
              "    }\n",
              "\n",
              "    [theme=dark] .colab-df-convert:hover {\n",
              "      background-color: #434B5C;\n",
              "      box-shadow: 0px 1px 3px 1px rgba(0, 0, 0, 0.15);\n",
              "      filter: drop-shadow(0px 1px 2px rgba(0, 0, 0, 0.3));\n",
              "      fill: #FFFFFF;\n",
              "    }\n",
              "  </style>\n",
              "\n",
              "      <script>\n",
              "        const buttonEl =\n",
              "          document.querySelector('#df-4a6d93df-c9cc-4175-810a-0accfa502a67 button.colab-df-convert');\n",
              "        buttonEl.style.display =\n",
              "          google.colab.kernel.accessAllowed ? 'block' : 'none';\n",
              "\n",
              "        async function convertToInteractive(key) {\n",
              "          const element = document.querySelector('#df-4a6d93df-c9cc-4175-810a-0accfa502a67');\n",
              "          const dataTable =\n",
              "            await google.colab.kernel.invokeFunction('convertToInteractive',\n",
              "                                                     [key], {});\n",
              "          if (!dataTable) return;\n",
              "\n",
              "          const docLinkHtml = 'Like what you see? Visit the ' +\n",
              "            '<a target=\"_blank\" href=https://colab.research.google.com/notebooks/data_table.ipynb>data table notebook</a>'\n",
              "            + ' to learn more about interactive tables.';\n",
              "          element.innerHTML = '';\n",
              "          dataTable['output_type'] = 'display_data';\n",
              "          await google.colab.output.renderOutput(dataTable, element);\n",
              "          const docLink = document.createElement('div');\n",
              "          docLink.innerHTML = docLinkHtml;\n",
              "          element.appendChild(docLink);\n",
              "        }\n",
              "      </script>\n",
              "    </div>\n",
              "  </div>\n",
              "  "
            ]
          },
          "metadata": {},
          "execution_count": 49
        }
      ]
    },
    {
      "cell_type": "markdown",
      "source": [
        "clustermap"
      ],
      "metadata": {
        "id": "CyUN_eL22lEf"
      }
    },
    {
      "cell_type": "code",
      "source": [
        "sns.clustermap(pd.crosstab(df['noAttention'], df['noGestures12Months']))"
      ],
      "metadata": {
        "colab": {
          "base_uri": "https://localhost:8080/",
          "height": 746
        },
        "id": "H28U1Ujx2kli",
        "outputId": "842d36be-ad8c-448d-8d6b-ffaef8ac2607"
      },
      "execution_count": null,
      "outputs": [
        {
          "output_type": "execute_result",
          "data": {
            "text/plain": [
              "<seaborn.matrix.ClusterGrid at 0x7fbefa138400>"
            ]
          },
          "metadata": {},
          "execution_count": 50
        },
        {
          "output_type": "display_data",
          "data": {
            "text/plain": [
              "<Figure size 720x720 with 4 Axes>"
            ],
            "image/png": "[encoded data removed]"
          },
          "metadata": {}
        }
      ]
    },
    {
      "cell_type": "markdown",
      "source": [
        "Feature Engineering"
      ],
      "metadata": {
        "id": "zqhv0OjR6C4U"
      }
    },
    {
      "cell_type": "code",
      "source": [
        "df = df.astype('category')"
      ],
      "metadata": {
        "id": "BK6x_PjOc-nP"
      },
      "execution_count": null,
      "outputs": []
    },
    {
      "cell_type": "code",
      "source": [
        "df.info()"
      ],
      "metadata": {
        "colab": {
          "base_uri": "https://localhost:8080/"
        },
        "id": "rZq7iW5KdJVH",
        "outputId": "744011bd-0b2a-4023-c69a-d68fa0adf8d0"
      },
      "execution_count": null,
      "outputs": [
        {
          "output_type": "stream",
          "name": "stdout",
          "text": [
            "<class 'pandas.core.frame.DataFrame'>\n",
            "RangeIndex: 499 entries, 0 to 498\n",
            "Data columns (total 17 columns):\n",
            " #   Column                     Non-Null Count  Dtype   \n",
            "---  ------                     --------------  -----   \n",
            " 0   genHistory                 499 non-null    category\n",
            " 1   hyperactivity              499 non-null    category\n",
            " 2   forgetfulness              499 non-null    category\n",
            " 3   disobeyInst                499 non-null    category\n",
            " 4   noDangerSense              499 non-null    category\n",
            " 5   antisocial                 499 non-null    category\n",
            " 6   harmingNature              499 non-null    category\n",
            " 7   irrSleep                   499 non-null    category\n",
            " 8   lowEsteem                  499 non-null    category\n",
            " 9   repTempTantrum             499 non-null    category\n",
            " 10  noAttention                499 non-null    category\n",
            " 11  repeatWords                499 non-null    category\n",
            " 12  respNamesBy9months         499 non-null    category\n",
            " 13  noPlaywithOtherby36Months  499 non-null    category\n",
            " 14  noGestures12Months         499 non-null    category\n",
            " 15  unusualEating              499 non-null    category\n",
            " 16  chanceOfDisorder           499 non-null    category\n",
            "dtypes: category(17)\n",
            "memory usage: 11.7 KB\n"
          ]
        }
      ]
    },
    {
      "cell_type": "code",
      "source": [
        "from sklearn.preprocessing import LabelEncoder\n",
        "le = LabelEncoder()\n",
        "for column in df.columns:\n",
        "  df[column]= le.fit_transform(df[column])\n"
      ],
      "metadata": {
        "id": "60d3ukRKfSi_"
      },
      "execution_count": null,
      "outputs": []
    },
    {
      "cell_type": "code",
      "source": [
        "df.head()"
      ],
      "metadata": {
        "colab": {
          "base_uri": "https://localhost:8080/",
          "height": 270
        },
        "id": "TIhx-oPKf4j_",
        "outputId": "e78fd9b3-b63b-4071-8586-acbffa55f490"
      },
      "execution_count": null,
      "outputs": [
        {
          "output_type": "execute_result",
          "data": {
            "text/plain": [
              "   genHistory  hyperactivity  forgetfulness  disobeyInst  noDangerSense  \\\n",
              "0           0              2              2            2              3   \n",
              "1           2              0              0            0              2   \n",
              "2           1              3              3            2              2   \n",
              "3           3              3              0            3              0   \n",
              "4           3              1              1            1              2   \n",
              "\n",
              "   antisocial  harmingNature  irrSleep  lowEsteem  repTempTantrum  \\\n",
              "0           3              3         0          3               3   \n",
              "1           0              0         3          0               3   \n",
              "2           3              3         0          2               2   \n",
              "3           0              0         2          1               1   \n",
              "4           2              2         0          2               1   \n",
              "\n",
              "   noAttention  repeatWords  respNamesBy9months  noPlaywithOtherby36Months  \\\n",
              "0            2            2                   3                          0   \n",
              "1            2            3                   2                          0   \n",
              "2            1            3                   1                          2   \n",
              "3            3            1                   1                          0   \n",
              "4            1            0                   2                          1   \n",
              "\n",
              "   noGestures12Months  unusualEating  chanceOfDisorder  \n",
              "0                   2              3                 1  \n",
              "1                   3              1                 1  \n",
              "2                   0              1                 1  \n",
              "3                   3              3                 0  \n",
              "4                   2              3                 1  "
            ],
            "text/html": [
              "\n",
              "  <div id=\"df-92a6606a-7646-4cfc-8938-abf98b003995\">\n",
              "    <div class=\"colab-df-container\">\n",
              "      <div>\n",
              "<style scoped>\n",
              "    .dataframe tbody tr th:only-of-type {\n",
              "        vertical-align: middle;\n",
              "    }\n",
              "\n",
              "    .dataframe tbody tr th {\n",
              "        vertical-align: top;\n",
              "    }\n",
              "\n",
              "    .dataframe thead th {\n",
              "        text-align: right;\n",
              "    }\n",
              "</style>\n",
              "<table border=\"1\" class=\"dataframe\">\n",
              "  <thead>\n",
              "    <tr style=\"text-align: right;\">\n",
              "      <th></th>\n",
              "      <th>genHistory</th>\n",
              "      <th>hyperactivity</th>\n",
              "      <th>forgetfulness</th>\n",
              "      <th>disobeyInst</th>\n",
              "      <th>noDangerSense</th>\n",
              "      <th>antisocial</th>\n",
              "      <th>harmingNature</th>\n",
              "      <th>irrSleep</th>\n",
              "      <th>lowEsteem</th>\n",
              "      <th>repTempTantrum</th>\n",
              "      <th>noAttention</th>\n",
              "      <th>repeatWords</th>\n",
              "      <th>respNamesBy9months</th>\n",
              "      <th>noPlaywithOtherby36Months</th>\n",
              "      <th>noGestures12Months</th>\n",
              "      <th>unusualEating</th>\n",
              "      <th>chanceOfDisorder</th>\n",
              "    </tr>\n",
              "  </thead>\n",
              "  <tbody>\n",
              "    <tr>\n",
              "      <th>0</th>\n",
              "      <td>0</td>\n",
              "      <td>2</td>\n",
              "      <td>2</td>\n",
              "      <td>2</td>\n",
              "      <td>3</td>\n",
              "      <td>3</td>\n",
              "      <td>3</td>\n",
              "      <td>0</td>\n",
              "      <td>3</td>\n",
              "      <td>3</td>\n",
              "      <td>2</td>\n",
              "      <td>2</td>\n",
              "      <td>3</td>\n",
              "      <td>0</td>\n",
              "      <td>2</td>\n",
              "      <td>3</td>\n",
              "      <td>1</td>\n",
              "    </tr>\n",
              "    <tr>\n",
              "      <th>1</th>\n",
              "      <td>2</td>\n",
              "      <td>0</td>\n",
              "      <td>0</td>\n",
              "      <td>0</td>\n",
              "      <td>2</td>\n",
              "      <td>0</td>\n",
              "      <td>0</td>\n",
              "      <td>3</td>\n",
              "      <td>0</td>\n",
              "      <td>3</td>\n",
              "      <td>2</td>\n",
              "      <td>3</td>\n",
              "      <td>2</td>\n",
              "      <td>0</td>\n",
              "      <td>3</td>\n",
              "      <td>1</td>\n",
              "      <td>1</td>\n",
              "    </tr>\n",
              "    <tr>\n",
              "      <th>2</th>\n",
              "      <td>1</td>\n",
              "      <td>3</td>\n",
              "      <td>3</td>\n",
              "      <td>2</td>\n",
              "      <td>2</td>\n",
              "      <td>3</td>\n",
              "      <td>3</td>\n",
              "      <td>0</td>\n",
              "      <td>2</td>\n",
              "      <td>2</td>\n",
              "      <td>1</td>\n",
              "      <td>3</td>\n",
              "      <td>1</td>\n",
              "      <td>2</td>\n",
              "      <td>0</td>\n",
              "      <td>1</td>\n",
              "      <td>1</td>\n",
              "    </tr>\n",
              "    <tr>\n",
              "      <th>3</th>\n",
              "      <td>3</td>\n",
              "      <td>3</td>\n",
              "      <td>0</td>\n",
              "      <td>3</td>\n",
              "      <td>0</td>\n",
              "      <td>0</td>\n",
              "      <td>0</td>\n",
              "      <td>2</td>\n",
              "      <td>1</td>\n",
              "      <td>1</td>\n",
              "      <td>3</td>\n",
              "      <td>1</td>\n",
              "      <td>1</td>\n",
              "      <td>0</td>\n",
              "      <td>3</td>\n",
              "      <td>3</td>\n",
              "      <td>0</td>\n",
              "    </tr>\n",
              "    <tr>\n",
              "      <th>4</th>\n",
              "      <td>3</td>\n",
              "      <td>1</td>\n",
              "      <td>1</td>\n",
              "      <td>1</td>\n",
              "      <td>2</td>\n",
              "      <td>2</td>\n",
              "      <td>2</td>\n",
              "      <td>0</td>\n",
              "      <td>2</td>\n",
              "      <td>1</td>\n",
              "      <td>1</td>\n",
              "      <td>0</td>\n",
              "      <td>2</td>\n",
              "      <td>1</td>\n",
              "      <td>2</td>\n",
              "      <td>3</td>\n",
              "      <td>1</td>\n",
              "    </tr>\n",
              "  </tbody>\n",
              "</table>\n",
              "</div>\n",
              "      <button class=\"colab-df-convert\" onclick=\"convertToInteractive('df-92a6606a-7646-4cfc-8938-abf98b003995')\"\n",
              "              title=\"Convert this dataframe to an interactive table.\"\n",
              "              style=\"display:none;\">\n",
              "        \n",
              "  <svg xmlns=\"http://www.w3.org/2000/svg\" height=\"24px\"viewBox=\"0 0 24 24\"\n",
              "       width=\"24px\">\n",
              "    <path d=\"M0 0h24v24H0V0z\" fill=\"none\"/>\n",
              "    <path d=\"M18.56 5.44l.94 2.06.94-2.06 2.06-.94-2.06-.94-.94-2.06-.94 2.06-2.06.94zm-11 1L8.5 8.5l.94-2.06 2.06-.94-2.06-.94L8.5 2.5l-.94 2.06-2.06.94zm10 10l.94 2.06.94-2.06 2.06-.94-2.06-.94-.94-2.06-.94 2.06-2.06.94z\"/><path d=\"M17.41 7.96l-1.37-1.37c-.4-.4-.92-.59-1.43-.59-.52 0-1.04.2-1.43.59L10.3 9.45l-7.72 7.72c-.78.78-.78 2.05 0 2.83L4 21.41c.39.39.9.59 1.41.59.51 0 1.02-.2 1.41-.59l7.78-7.78 2.81-2.81c.8-.78.8-2.07 0-2.86zM5.41 20L4 18.59l7.72-7.72 1.47 1.35L5.41 20z\"/>\n",
              "  </svg>\n",
              "      </button>\n",
              "      \n",
              "  <style>\n",
              "    .colab-df-container {\n",
              "      display:flex;\n",
              "      flex-wrap:wrap;\n",
              "      gap: 12px;\n",
              "    }\n",
              "\n",
              "    .colab-df-convert {\n",
              "      background-color: #E8F0FE;\n",
              "      border: none;\n",
              "      border-radius: 50%;\n",
              "      cursor: pointer;\n",
              "      display: none;\n",
              "      fill: #1967D2;\n",
              "      height: 32px;\n",
              "      padding: 0 0 0 0;\n",
              "      width: 32px;\n",
              "    }\n",
              "\n",
              "    .colab-df-convert:hover {\n",
              "      background-color: #E2EBFA;\n",
              "      box-shadow: 0px 1px 2px rgba(60, 64, 67, 0.3), 0px 1px 3px 1px rgba(60, 64, 67, 0.15);\n",
              "      fill: #174EA6;\n",
              "    }\n",
              "\n",
              "    [theme=dark] .colab-df-convert {\n",
              "      background-color: #3B4455;\n",
              "      fill: #D2E3FC;\n",
              "    }\n",
              "\n",
              "    [theme=dark] .colab-df-convert:hover {\n",
              "      background-color: #434B5C;\n",
              "      box-shadow: 0px 1px 3px 1px rgba(0, 0, 0, 0.15);\n",
              "      filter: drop-shadow(0px 1px 2px rgba(0, 0, 0, 0.3));\n",
              "      fill: #FFFFFF;\n",
              "    }\n",
              "  </style>\n",
              "\n",
              "      <script>\n",
              "        const buttonEl =\n",
              "          document.querySelector('#df-92a6606a-7646-4cfc-8938-abf98b003995 button.colab-df-convert');\n",
              "        buttonEl.style.display =\n",
              "          google.colab.kernel.accessAllowed ? 'block' : 'none';\n",
              "\n",
              "        async function convertToInteractive(key) {\n",
              "          const element = document.querySelector('#df-92a6606a-7646-4cfc-8938-abf98b003995');\n",
              "          const dataTable =\n",
              "            await google.colab.kernel.invokeFunction('convertToInteractive',\n",
              "                                                     [key], {});\n",
              "          if (!dataTable) return;\n",
              "\n",
              "          const docLinkHtml = 'Like what you see? Visit the ' +\n",
              "            '<a target=\"_blank\" href=https://colab.research.google.com/notebooks/data_table.ipynb>data table notebook</a>'\n",
              "            + ' to learn more about interactive tables.';\n",
              "          element.innerHTML = '';\n",
              "          dataTable['output_type'] = 'display_data';\n",
              "          await google.colab.output.renderOutput(dataTable, element);\n",
              "          const docLink = document.createElement('div');\n",
              "          docLink.innerHTML = docLinkHtml;\n",
              "          element.appendChild(docLink);\n",
              "        }\n",
              "      </script>\n",
              "    </div>\n",
              "  </div>\n",
              "  "
            ]
          },
          "metadata": {},
          "execution_count": 54
        }
      ]
    },
    {
      "cell_type": "code",
      "source": [
        "X = df.drop('chanceOfDisorder', axis= 1)\n",
        "y= df['chanceOfDisorder']"
      ],
      "metadata": {
        "id": "p-Z5W1iRgFLK"
      },
      "execution_count": null,
      "outputs": []
    },
    {
      "cell_type": "markdown",
      "source": [
        "PCA"
      ],
      "metadata": {
        "id": "SvkOwgPLg067"
      }
    },
    {
      "cell_type": "code",
      "source": [
        "from sklearn.decomposition import PCA\n",
        "pca1= PCA(n_components=14)\n",
        "pca_fit = pca1.fit_transform(X)\n"
      ],
      "metadata": {
        "id": "Jf7pLd88gtVf"
      },
      "execution_count": null,
      "outputs": []
    },
    {
      "cell_type": "code",
      "source": [
        "pca1.explained_variance_ratio_"
      ],
      "metadata": {
        "colab": {
          "base_uri": "https://localhost:8080/"
        },
        "id": "0tj68zY-gdpI",
        "outputId": "3a1ef5e1-66ca-44c1-edbf-f5d9f578fb0f"
      },
      "execution_count": null,
      "outputs": [
        {
          "output_type": "execute_result",
          "data": {
            "text/plain": [
              "array([0.1255082 , 0.08823293, 0.07499314, 0.07157484, 0.06799596,\n",
              "       0.06684984, 0.06488797, 0.0631319 , 0.06012476, 0.05901015,\n",
              "       0.05558827, 0.05347308, 0.05168438, 0.04997299])"
            ]
          },
          "metadata": {},
          "execution_count": 57
        }
      ]
    },
    {
      "cell_type": "code",
      "source": [
        "sum(pca1.explained_variance_ratio_)"
      ],
      "metadata": {
        "colab": {
          "base_uri": "https://localhost:8080/"
        },
        "id": "byLh_1QQiFH9",
        "outputId": "8865242c-ddf5-41b8-ca8b-622ba0465b14"
      },
      "execution_count": null,
      "outputs": [
        {
          "output_type": "execute_result",
          "data": {
            "text/plain": [
              "0.9530284125500845"
            ]
          },
          "metadata": {},
          "execution_count": 58
        }
      ]
    },
    {
      "cell_type": "markdown",
      "source": [
        "Test train split"
      ],
      "metadata": {
        "id": "YM0ow6_ZVAa0"
      }
    },
    {
      "cell_type": "code",
      "source": [
        "X_train, X_test, y_train, y_test = train_test_split(pca_fit,y, test_size=0.20, random_state=7)"
      ],
      "metadata": {
        "id": "et2q9oTIidmJ"
      },
      "execution_count": null,
      "outputs": []
    },
    {
      "cell_type": "code",
      "source": [
        "X_train"
      ],
      "metadata": {
        "colab": {
          "base_uri": "https://localhost:8080/"
        },
        "id": "bQ-GBMuLjHAH",
        "outputId": "a205135f-8a11-4200-81dd-ff3e6291aab2"
      },
      "execution_count": null,
      "outputs": [
        {
          "output_type": "execute_result",
          "data": {
            "text/plain": [
              "array([[ 2.88840421,  1.71553348,  1.26772771, ..., -1.00316116,\n",
              "         0.2098849 , -0.25730367],\n",
              "       [ 0.24156686,  1.69935556, -2.10862026, ..., -1.08044366,\n",
              "         0.2733606 ,  1.34400051],\n",
              "       [ 2.10796301,  0.52496634,  3.40762001, ..., -2.46230433,\n",
              "        -0.09679771, -0.6321276 ],\n",
              "       ...,\n",
              "       [ 2.02024613, -1.69999181, -0.41690031, ..., -1.04746377,\n",
              "        -1.24560757,  0.06105163],\n",
              "       [ 2.43419835, -0.32376086, -0.61747782, ..., -1.49129626,\n",
              "        -0.70172317, -0.65407398],\n",
              "       [ 1.93329648, -1.93552902,  0.52082955, ...,  0.35713007,\n",
              "         0.61292414, -1.07793385]])"
            ]
          },
          "metadata": {},
          "execution_count": 60
        }
      ]
    },
    {
      "cell_type": "code",
      "source": [
        "lr = LogisticRegression()\n",
        "lr.fit(X_train, y_train)\n",
        "\n",
        "knn = KNeighborsClassifier()\n",
        "knn.fit(X_train, y_train)\n",
        "\n",
        "svc = SVC()\n",
        "svc.fit(X_train, y_train)\n",
        "\n",
        "dt = DecisionTreeClassifier()\n",
        "dt.fit(X_train, y_train)\n",
        "\n",
        "rm = RandomForestClassifier()\n",
        "rm.fit(X_train, y_train)\n",
        "\n",
        "gb = GradientBoostingClassifier()\n",
        "gb.fit(X_train, y_train)"
      ],
      "metadata": {
        "colab": {
          "base_uri": "https://localhost:8080/"
        },
        "id": "lmJtDNF4jSBs",
        "outputId": "ddbb8c8e-5c86-48a9-b789-50c3c26a54c9"
      },
      "execution_count": null,
      "outputs": [
        {
          "output_type": "execute_result",
          "data": {
            "text/plain": [
              "GradientBoostingClassifier()"
            ]
          },
          "metadata": {},
          "execution_count": 61
        }
      ]
    },
    {
      "cell_type": "code",
      "source": [
        "y_pred1 = lr.predict(X_test)\n",
        "y_pred2 = knn.predict(X_test)\n",
        "y_pred3 = svc.predict(X_test)\n",
        "y_pred4 = dt.predict(X_test)\n",
        "y_pred5 = rm.predict(X_test)\n",
        "y_pred6 = gb.predict(X_test)"
      ],
      "metadata": {
        "id": "tzNq7hAtlsWn"
      },
      "execution_count": null,
      "outputs": []
    },
    {
      "cell_type": "markdown",
      "source": [
        "EVALUATING THE ALGORITHMS"
      ],
      "metadata": {
        "id": "_dUi3Quq9d4Q"
      }
    },
    {
      "cell_type": "code",
      "source": [
        "from sklearn.metrics import accuracy_score"
      ],
      "metadata": {
        "id": "er8CEVL7mLAF"
      },
      "execution_count": null,
      "outputs": []
    },
    {
      "cell_type": "code",
      "source": [
        "print(\"Accuracy for LR\", accuracy_score(y_test, y_pred1))\n",
        "print(\"Accuracy for KNN\", accuracy_score(y_test, y_pred2))\n",
        "print(\"Accuracy for SVC\", accuracy_score(y_test, y_pred3))\n",
        "print(\"Accuracy for DT\", accuracy_score(y_test, y_pred4))\n",
        "print(\"Accuracy for RM\", accuracy_score(y_test, y_pred5))\n",
        "print(\"Accuracy for GB\", accuracy_score(y_test, y_pred6))"
      ],
      "metadata": {
        "colab": {
          "base_uri": "https://localhost:8080/"
        },
        "id": "VnpN2MiamYwm",
        "outputId": "fcb971a0-54e1-42eb-f215-f511868a6e0f"
      },
      "execution_count": null,
      "outputs": [
        {
          "output_type": "stream",
          "name": "stdout",
          "text": [
            "Accuracy for LR 0.82\n",
            "Accuracy for KNN 0.73\n",
            "Accuracy for SVC 0.78\n",
            "Accuracy for DT 0.67\n",
            "Accuracy for RM 0.82\n",
            "Accuracy for GB 0.81\n"
          ]
        }
      ]
    },
    {
      "cell_type": "code",
      "source": [
        "final_data = pd.DataFrame({'Models':['LR','KNN', 'SVC', 'DT','RM','GBC'],\n",
        "              'ACC': [accuracy_score(y_test,y_pred1)*100,\n",
        "                      accuracy_score(y_test,y_pred2)*100,\n",
        "                      accuracy_score(y_test,y_pred3)*100,\n",
        "                      accuracy_score(y_test,y_pred4)*100,\n",
        "                      accuracy_score(y_test,y_pred5)*100,\n",
        "                      accuracy_score(y_test,y_pred6)*100,\n",
        "                      ]})"
      ],
      "metadata": {
        "id": "Wgjk7Ruh9hq9"
      },
      "execution_count": null,
      "outputs": []
    },
    {
      "cell_type": "code",
      "source": [
        "final_data"
      ],
      "metadata": {
        "colab": {
          "base_uri": "https://localhost:8080/",
          "height": 237
        },
        "id": "M4Jlb6QD-qCD",
        "outputId": "cef24e6e-8052-4a4e-fdd0-489177a46db7"
      },
      "execution_count": null,
      "outputs": [
        {
          "output_type": "execute_result",
          "data": {
            "text/plain": [
              "  Models   ACC\n",
              "0     LR  82.0\n",
              "1    KNN  73.0\n",
              "2    SVC  78.0\n",
              "3     DT  67.0\n",
              "4     RM  82.0\n",
              "5    GBC  81.0"
            ],
            "text/html": [
              "\n",
              "  <div id=\"df-258f815b-0894-4369-a1a3-6555365c5c5a\">\n",
              "    <div class=\"colab-df-container\">\n",
              "      <div>\n",
              "<style scoped>\n",
              "    .dataframe tbody tr th:only-of-type {\n",
              "        vertical-align: middle;\n",
              "    }\n",
              "\n",
              "    .dataframe tbody tr th {\n",
              "        vertical-align: top;\n",
              "    }\n",
              "\n",
              "    .dataframe thead th {\n",
              "        text-align: right;\n",
              "    }\n",
              "</style>\n",
              "<table border=\"1\" class=\"dataframe\">\n",
              "  <thead>\n",
              "    <tr style=\"text-align: right;\">\n",
              "      <th></th>\n",
              "      <th>Models</th>\n",
              "      <th>ACC</th>\n",
              "    </tr>\n",
              "  </thead>\n",
              "  <tbody>\n",
              "    <tr>\n",
              "      <th>0</th>\n",
              "      <td>LR</td>\n",
              "      <td>82.0</td>\n",
              "    </tr>\n",
              "    <tr>\n",
              "      <th>1</th>\n",
              "      <td>KNN</td>\n",
              "      <td>73.0</td>\n",
              "    </tr>\n",
              "    <tr>\n",
              "      <th>2</th>\n",
              "      <td>SVC</td>\n",
              "      <td>78.0</td>\n",
              "    </tr>\n",
              "    <tr>\n",
              "      <th>3</th>\n",
              "      <td>DT</td>\n",
              "      <td>67.0</td>\n",
              "    </tr>\n",
              "    <tr>\n",
              "      <th>4</th>\n",
              "      <td>RM</td>\n",
              "      <td>82.0</td>\n",
              "    </tr>\n",
              "    <tr>\n",
              "      <th>5</th>\n",
              "      <td>GBC</td>\n",
              "      <td>81.0</td>\n",
              "    </tr>\n",
              "  </tbody>\n",
              "</table>\n",
              "</div>\n",
              "      <button class=\"colab-df-convert\" onclick=\"convertToInteractive('df-258f815b-0894-4369-a1a3-6555365c5c5a')\"\n",
              "              title=\"Convert this dataframe to an interactive table.\"\n",
              "              style=\"display:none;\">\n",
              "        \n",
              "  <svg xmlns=\"http://www.w3.org/2000/svg\" height=\"24px\"viewBox=\"0 0 24 24\"\n",
              "       width=\"24px\">\n",
              "    <path d=\"M0 0h24v24H0V0z\" fill=\"none\"/>\n",
              "    <path d=\"M18.56 5.44l.94 2.06.94-2.06 2.06-.94-2.06-.94-.94-2.06-.94 2.06-2.06.94zm-11 1L8.5 8.5l.94-2.06 2.06-.94-2.06-.94L8.5 2.5l-.94 2.06-2.06.94zm10 10l.94 2.06.94-2.06 2.06-.94-2.06-.94-.94-2.06-.94 2.06-2.06.94z\"/><path d=\"M17.41 7.96l-1.37-1.37c-.4-.4-.92-.59-1.43-.59-.52 0-1.04.2-1.43.59L10.3 9.45l-7.72 7.72c-.78.78-.78 2.05 0 2.83L4 21.41c.39.39.9.59 1.41.59.51 0 1.02-.2 1.41-.59l7.78-7.78 2.81-2.81c.8-.78.8-2.07 0-2.86zM5.41 20L4 18.59l7.72-7.72 1.47 1.35L5.41 20z\"/>\n",
              "  </svg>\n",
              "      </button>\n",
              "      \n",
              "  <style>\n",
              "    .colab-df-container {\n",
              "      display:flex;\n",
              "      flex-wrap:wrap;\n",
              "      gap: 12px;\n",
              "    }\n",
              "\n",
              "    .colab-df-convert {\n",
              "      background-color: #E8F0FE;\n",
              "      border: none;\n",
              "      border-radius: 50%;\n",
              "      cursor: pointer;\n",
              "      display: none;\n",
              "      fill: #1967D2;\n",
              "      height: 32px;\n",
              "      padding: 0 0 0 0;\n",
              "      width: 32px;\n",
              "    }\n",
              "\n",
              "    .colab-df-convert:hover {\n",
              "      background-color: #E2EBFA;\n",
              "      box-shadow: 0px 1px 2px rgba(60, 64, 67, 0.3), 0px 1px 3px 1px rgba(60, 64, 67, 0.15);\n",
              "      fill: #174EA6;\n",
              "    }\n",
              "\n",
              "    [theme=dark] .colab-df-convert {\n",
              "      background-color: #3B4455;\n",
              "      fill: #D2E3FC;\n",
              "    }\n",
              "\n",
              "    [theme=dark] .colab-df-convert:hover {\n",
              "      background-color: #434B5C;\n",
              "      box-shadow: 0px 1px 3px 1px rgba(0, 0, 0, 0.15);\n",
              "      filter: drop-shadow(0px 1px 2px rgba(0, 0, 0, 0.3));\n",
              "      fill: #FFFFFF;\n",
              "    }\n",
              "  </style>\n",
              "\n",
              "      <script>\n",
              "        const buttonEl =\n",
              "          document.querySelector('#df-258f815b-0894-4369-a1a3-6555365c5c5a button.colab-df-convert');\n",
              "        buttonEl.style.display =\n",
              "          google.colab.kernel.accessAllowed ? 'block' : 'none';\n",
              "\n",
              "        async function convertToInteractive(key) {\n",
              "          const element = document.querySelector('#df-258f815b-0894-4369-a1a3-6555365c5c5a');\n",
              "          const dataTable =\n",
              "            await google.colab.kernel.invokeFunction('convertToInteractive',\n",
              "                                                     [key], {});\n",
              "          if (!dataTable) return;\n",
              "\n",
              "          const docLinkHtml = 'Like what you see? Visit the ' +\n",
              "            '<a target=\"_blank\" href=https://colab.research.google.com/notebooks/data_table.ipynb>data table notebook</a>'\n",
              "            + ' to learn more about interactive tables.';\n",
              "          element.innerHTML = '';\n",
              "          dataTable['output_type'] = 'display_data';\n",
              "          await google.colab.output.renderOutput(dataTable, element);\n",
              "          const docLink = document.createElement('div');\n",
              "          docLink.innerHTML = docLinkHtml;\n",
              "          element.appendChild(docLink);\n",
              "        }\n",
              "      </script>\n",
              "    </div>\n",
              "  </div>\n",
              "  "
            ]
          },
          "metadata": {},
          "execution_count": 66
        }
      ]
    },
    {
      "cell_type": "code",
      "source": [
        "import seaborn as sns"
      ],
      "metadata": {
        "id": "TSBk0P5r-Yqs"
      },
      "execution_count": null,
      "outputs": []
    },
    {
      "cell_type": "code",
      "source": [
        "sns.barplot(final_data['Models'], final_data['ACC'])"
      ],
      "metadata": {
        "colab": {
          "base_uri": "https://localhost:8080/",
          "height": 351
        },
        "id": "ZzDo1dbT-b0F",
        "outputId": "eab8826f-d749-4913-ecb0-7210245df080"
      },
      "execution_count": null,
      "outputs": [
        {
          "output_type": "stream",
          "name": "stderr",
          "text": [
            "/usr/local/lib/python3.8/dist-packages/seaborn/_decorators.py:36: FutureWarning: Pass the following variables as keyword args: x, y. From version 0.12, the only valid positional argument will be `data`, and passing other arguments without an explicit keyword will result in an error or misinterpretation.\n",
            "  warnings.warn(\n"
          ]
        },
        {
          "output_type": "execute_result",
          "data": {
            "text/plain": [
              "<matplotlib.axes._subplots.AxesSubplot at 0x7fbef9f91b50>"
            ]
          },
          "metadata": {},
          "execution_count": 68
        },
        {
          "output_type": "display_data",
          "data": {
            "text/plain": [
              "<Figure size 432x288 with 1 Axes>"
            ],
            "image/png": "[encoded data removed]"
          },
          "metadata": {}
        }
      ]
    },
    {
      "cell_type": "markdown",
      "source": [
        "Saving the model"
      ],
      "metadata": {
        "id": "tj5Fjss35ctA"
      }
    },
    {
      "cell_type": "code",
      "source": [
        "gbc_model = GradientBoostingClassifier()\n",
        "gbc_model.fit(pca_fit,y)"
      ],
      "metadata": {
        "colab": {
          "base_uri": "https://localhost:8080/"
        },
        "id": "4BjlDPPG_PwW",
        "outputId": "a9d4be61-7fb3-467f-f404-36f0d199610a"
      },
      "execution_count": null,
      "outputs": [
        {
          "output_type": "execute_result",
          "data": {
            "text/plain": [
              "GradientBoostingClassifier()"
            ]
          },
          "metadata": {},
          "execution_count": 69
        }
      ]
    },
    {
      "cell_type": "code",
      "source": [
        "import joblib"
      ],
      "metadata": {
        "id": "OMz06xrO5hA2"
      },
      "execution_count": null,
      "outputs": []
    },
    {
      "cell_type": "code",
      "source": [
        "joblib.dump(gbc_model, \"Behavioural_disorder_prediction\")"
      ],
      "metadata": {
        "colab": {
          "base_uri": "https://localhost:8080/"
        },
        "id": "ekqfgN794vwi",
        "outputId": "deca24ae-3607-4c2a-c645-6d1b78f79671"
      },
      "execution_count": null,
      "outputs": [
        {
          "output_type": "execute_result",
          "data": {
            "text/plain": [
              "['Behavioural_disorder_prediction']"
            ]
          },
          "metadata": {},
          "execution_count": 71
        }
      ]
    },
    {
      "cell_type": "code",
      "source": [
        "model = joblib.load('Behavioural_disorder_prediction')"
      ],
      "metadata": {
        "id": "zJZscNkAlPIL"
      },
      "execution_count": null,
      "outputs": []
    },
    {
      "cell_type": "code",
      "source": [
        "p= model.predict(pca1.transform([[0,3,0,3,0,3,2,0,2,3,3,3,3,3,3,0]])) #This array can be changed according to the encoded values of the Options selected by the user"
      ],
      "metadata": {
        "colab": {
          "base_uri": "https://localhost:8080/"
        },
        "id": "ZZkylDIJAHAL",
        "outputId": "c62f3799-f7dc-4a24-b017-e5766b1fd111"
      },
      "execution_count": null,
      "outputs": [
        {
          "output_type": "stream",
          "name": "stderr",
          "text": [
            "/usr/local/lib/python3.8/dist-packages/sklearn/base.py:450: UserWarning: X does not have valid feature names, but PCA was fitted with feature names\n",
            "  warnings.warn(\n"
          ]
        }
      ]
    },
    {
      "cell_type": "code",
      "source": [
        "if p[0]==1:\n",
        "  print('High Chance of Having disorder')\n",
        "else:\n",
        "  print('Low chance of Having disorder')"
      ],
      "metadata": {
        "colab": {
          "base_uri": "https://localhost:8080/"
        },
        "id": "S1KMRVToAmJ_",
        "outputId": "3af4af38-e3e7-47e1-c96e-510dee4ff761"
      },
      "execution_count": null,
      "outputs": [
        {
          "output_type": "stream",
          "name": "stdout",
          "text": [
            "Low chance of Having disorder\n"
          ]
        }
      ]
    },
    {
      "cell_type": "markdown",
      "source": [
        "#####Creation of a GUI Interface will be added later! THANKYOU"
      ],
      "metadata": {
        "id": "kfvskYFHw0XQ"
      }
    },
    {
      "cell_type": "code",
      "source": [
        "import pickle"
      ],
      "metadata": {
        "id": "tw70l3q8I7JW"
      },
      "execution_count": null,
      "outputs": []
    },
    {
      "cell_type": "code",
      "source": [],
      "metadata": {
        "id": "T7RH6f0yI-3z"
      },
      "execution_count": null,
      "outputs": []
    },
    {
      "cell_type": "markdown",
      "source": [
        "ML Pipelines"
      ],
      "metadata": {
        "id": "kurKijV0iO_G"
      }
    },
    {
      "cell_type": "code",
      "source": [
        "#trf1 = ColumnTransformer([\n",
        "    #('scale',MinMaxScaler(), slice(1,16))\n",
        "#])"
      ],
      "metadata": {
        "id": "jj1H6SGbn9Qt"
      },
      "execution_count": null,
      "outputs": []
    },
    {
      "cell_type": "code",
      "source": [
        "#trf2 = SelectKBest(score_func=chi2, k=14)"
      ],
      "metadata": {
        "id": "GzFJ9kBFqOZW"
      },
      "execution_count": null,
      "outputs": []
    },
    {
      "cell_type": "code",
      "source": [
        "#trf3 = DecisionTreeClassifier()"
      ],
      "metadata": {
        "id": "LtgUq-uYqknT"
      },
      "execution_count": null,
      "outputs": []
    },
    {
      "cell_type": "markdown",
      "source": [
        "create pipeline"
      ],
      "metadata": {
        "id": "HduMBgDhqqQM"
      }
    },
    {
      "cell_type": "code",
      "source": [
        "#pipe = Pipeline([\n",
        "    #('trf1', trf1),\n",
        "    #('trf2', trf2),\n",
        "   # ('trf3', trf3)\n",
        "#])"
      ],
      "metadata": {
        "id": "MyNiiX9kqspk"
      },
      "execution_count": null,
      "outputs": []
    },
    {
      "cell_type": "code",
      "source": [
        "#pipe = make_pipeline(trf1,trf2,trf3)"
      ],
      "metadata": {
        "id": "ULVQy7SnrPzw"
      },
      "execution_count": null,
      "outputs": []
    },
    {
      "cell_type": "code",
      "source": [
        "#from sklearn import set_config\n",
        "#set_config(display='diagram')"
      ],
      "metadata": {
        "id": "gDUddlNBtDNO"
      },
      "execution_count": null,
      "outputs": []
    },
    {
      "cell_type": "code",
      "source": [
        "#pipe.named_steps"
      ],
      "metadata": {
        "id": "TBYs3szStyQO"
      },
      "execution_count": null,
      "outputs": []
    }
  ]
}